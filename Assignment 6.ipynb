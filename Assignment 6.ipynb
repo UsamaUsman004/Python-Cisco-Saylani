{
 "cells": [
  {
   "cell_type": "markdown",
   "metadata": {},
   "source": [
    "# Object-oriented programming"
   ]
  },
  {
   "cell_type": "raw",
   "metadata": {},
   "source": [
    "Object-oriented programming (OOP) refers to a type of computer programming (software design) in which programmers define the\n",
    "data type of a data structure, and also the types of operations (functions) that can be applied to the data structure.\n",
    "For example, objects can inherit characteristics from other objects."
   ]
  },
  {
   "cell_type": "markdown",
   "metadata": {},
   "source": [
    "# Benefits of OOP"
   ]
  },
  {
   "cell_type": "raw",
   "metadata": {},
   "source": [
    "1-It provides a clear modular structure for programs which makes it good for defining abstract datatypes in which \n",
    "implementation details are hidden\n",
    "\n",
    "2-Objects can also be reused within an across applications. The reuse of software also lowers the cost of development.\n",
    "More effort is put into the object-oriented analysis and design, which lowers the overall cost of development.\n",
    "\n",
    "3-It makes software easier to maintain. Since the design is modular, part of the system can be updated in case of issues \n",
    "without a need to make large-scale changes\n",
    "\n",
    "4-Reuse also enables faster development. Object-oriented programming languages come with rich libraries of objects, and code \n",
    "developed during projects is also reusable in future projects.\n",
    "\n",
    "5-It provides a good framework for code libraries where the supplied software components can be easily adapted and modified by \n",
    "the programmer. This is particularly useful for developing graphical user interfaces.\n",
    "\n",
    "6-Better Productivity as OOP techniques enforce rules on a programmer that, in the long run, help her get more work done; \n",
    "finished programs work better, have more features and are easier to read and maintain. OOP programmers take new and existing \n",
    "software objects and \"stitch\" them together to make new programs. Because object libraries contain many useful functions, \n",
    "software developers don't have to reinvent the wheel as often; more of their time goes into making the new program."
   ]
  },
  {
   "cell_type": "markdown",
   "metadata": {},
   "source": [
    "# Differentiate between Function and Method"
   ]
  },
  {
   "cell_type": "raw",
   "metadata": {},
   "source": [
    "A function is a piece of code that is called by name. It can be passed data to operate on (i.e. the parameters) and can \n",
    "optionally return data (the return value). All data that is passed to a function is explicitly passed. \n",
    "A method is a piece of code that is called by a name that is associated with an object."
   ]
  },
  {
   "cell_type": "markdown",
   "metadata": {},
   "source": [
    "# Define the Terms:"
   ]
  },
  {
   "cell_type": "raw",
   "metadata": {},
   "source": [
    "   CLASS:\n",
    "In object-oriented programming , a class is a template definition of the method s and variable s in a particular kind of \n",
    "object . Thus, an object is a specific instance of a class; it contains real values instead of variables.\n",
    "\n",
    "OBJECT:\n",
    "In object-oriented programming (OOP), objects are the things you think about first in designing a program and they are also \n",
    "the units of code that are eventually derived from the process.Each object is an instance of a particular class or subclass with the class's own methods or procedures and data variables.\n",
    "\n",
    "CLASS:\n",
    "Class attributes are attributes which are owned by the class itself. They will be shared by all the instances of the class. Therefore they have the same value for every instance. We define class attributes outside of all the methods, usually they are placed at the top, right below the class header.\n",
    "\n",
    "BEHAVIOR:\n",
    "The behavior of an object is defined by its methods, which are the functions and subroutines defined within the object class. Without class methods, a class would simply be a structure. Methods determine what type of functionality a class has, how it modifies its data, and its overall behavior."
   ]
  },
  {
   "cell_type": "markdown",
   "metadata": {},
   "source": [
    "# Write a code in python in which create a class named it Car which have 5 attributes such like (model, color and name etc.) and 3 methods. And create 5 object instance from that class."
   ]
  },
  {
   "cell_type": "code",
   "execution_count": 43,
   "metadata": {},
   "outputs": [
    {
     "name": "stdout",
     "output_type": "stream",
     "text": [
      "\n",
      "Owner =  M.Osama\n",
      "Car =  Vitz\n",
      "Price =  100000\n",
      "\n",
      "Owner =  M.Ali\n",
      "Car =  Corolla\n",
      "Price =  400000\n",
      "\n",
      "Owner =  M.Usman\n",
      "Car =  Civic\n",
      "Price =  450000\n",
      "\n",
      "Owner =  M.Usama\n",
      "Car =  Audi\n",
      "Price =  10000000\n",
      "\n",
      "Owner =  Usman Rabbani\n",
      "Car =  BMW\n",
      "Price =  25000000\n"
     ]
    }
   ],
   "source": [
    "class Car:\n",
    "    \n",
    "    def __init__(self, name, color,model,price,owner):\n",
    "        self.name = name\n",
    "        self.color = color\n",
    "        self.model = model\n",
    "        self.price = price\n",
    "        self.owner = owner\n",
    "        \n",
    "    def Owner(self):\n",
    "        print(\"\\nOwner =  \" + self.owner)\n",
    "        \n",
    "    def CarPrice(Name):\n",
    "        print(\"Car = \",Name.name)\n",
    "        print(\"Price = \",Name.price)\n",
    "        \n",
    "        \n",
    "    \n",
    "    \n",
    "c1 = Car(\"Vitz\",\"Red\",2019,100000,\"M.Osama\")  \n",
    "c1.Owner()\n",
    "c1.CarPrice()\n",
    "\n",
    "c2 = Car(\"Corolla\",\"Black\",2019,400000,\"M.Ali\")  \n",
    "c2.Owner()\n",
    "c2.CarPrice()\n",
    "\n",
    "\n",
    "c3 = Car(\"Civic\",\"White\",2019,450000,\"M.Usman\")  \n",
    "c3.Owner()\n",
    "c3.CarPrice()\n",
    "\n",
    "\n",
    "c4 = Car(\"Audi\",\"Red\",2019,10000000,\"M.Usama\")  \n",
    "c4.Owner()\n",
    "c4.CarPrice()\n",
    "\n",
    "\n",
    "c5 = Car(\"BMW\",\"Red\",2019,25000000,\"Usman Rabbani\")  \n",
    "c5.Owner()\n",
    "c5.CarPrice()\n"
   ]
  }
 ],
 "metadata": {
  "kernelspec": {
   "display_name": "Python 3",
   "language": "python",
   "name": "python3"
  },
  "language_info": {
   "codemirror_mode": {
    "name": "ipython",
    "version": 3
   },
   "file_extension": ".py",
   "mimetype": "text/x-python",
   "name": "python",
   "nbconvert_exporter": "python",
   "pygments_lexer": "ipython3",
   "version": "3.7.3"
  }
 },
 "nbformat": 4,
 "nbformat_minor": 2
}
