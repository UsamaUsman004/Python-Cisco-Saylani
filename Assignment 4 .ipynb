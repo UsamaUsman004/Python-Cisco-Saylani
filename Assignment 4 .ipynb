{
 "cells": [
  {
   "cell_type": "markdown",
   "metadata": {},
   "source": [
    "# Assignment # 4"
   ]
  },
  {
   "cell_type": "code",
   "execution_count": 5,
   "metadata": {},
   "outputs": [
    {
     "name": "stdout",
     "output_type": "stream",
     "text": [
      "{'first_name': 'Muhammad', 'last_name': 'Osama', 'age': 20, 'city': 'Karachi'}\n",
      "{'first_name': 'Muhammad', 'last_name': 'Osama', 'age': 20, 'city': 'Karachi', 'qualification': 'Intermidiate'}\n",
      "{'first_name': 'Muhammad', 'last_name': 'Osama', 'age': 20, 'city': 'Karachi', 'qualification': 'bachelors'}\n",
      "{'first_name': 'Muhammad', 'last_name': 'Osama', 'age': 20, 'city': 'Karachi'}\n"
     ]
    }
   ],
   "source": [
    "# Use a dictionary to store information about a person you know. Store their first name, last name, age,\n",
    "# and the city in which they live. You should have keys such as first_name, last_name, age, and city. Print\n",
    "# each piece of information stored in your dictionary. Add a new key value pair about qualification then\n",
    "# update the qualification value to high academic level then delete it.\n",
    "\n",
    "\n",
    "dic = {\"first_name\":\"Muhammad\",\"last_name\":\"Osama\",\"age\":20,\"city\":\"Karachi\"}\n",
    "print(dic)\n",
    "dic[\"qualification\"]=\"Intermidiate\"\n",
    "print(dic)\n",
    "dic.update({\"qualification\":\"bachelors\"})\n",
    "print(dic)\n",
    "del dic[\"qualification\"]\n",
    "print(dic)"
   ]
  },
  {
   "cell_type": "code",
   "execution_count": 32,
   "metadata": {},
   "outputs": [
    {
     "name": "stdout",
     "output_type": "stream",
     "text": [
      "{'Karachi': {'country': 'Pakistan', 'population': '14.91 million', 'fact': 'City Of Lights'}, 'Dhaka': {'country': 'Bangladesh', 'population': '8.906 million', 'fact': 'The people of Bangladesh love cricket.'}, 'Jeddah': {'country': 'Saudi Arabia', 'population': '3.431 million', 'fact': 'Islamic Religious Places'}}\n"
     ]
    }
   ],
   "source": [
    "# Make a dictionary called cities. Use the names of three cities as keys in your dictionary. Create a dictionary of information \n",
    "# about each city and include the country that the city is in, its approximate population, and one fact about that city. \n",
    "# The keys for each city’s dictionary should be something likecountry, population, and fact. Print the name of each city\n",
    "# and all of the information you have stored about it.\n",
    "\n",
    "cities = {\n",
    "        \"Karachi\":{\"country\":\"Pakistan\",\"population\":\"14.91 million\",\"fact\":\"City Of Lights\"},\n",
    "        \"Dhaka\":{\"country\":\"Bangladesh\",\"population\":\"8.906 million\",\"fact\":\"The people of Bangladesh love cricket.\"},\n",
    "        \"Jeddah\":{\"country\":\"Saudi Arabia\",\"population\":\"3.431 million\",\"fact\":\"Islamic Religious Places\"}\n",
    "        }\n",
    "print(cities)"
   ]
  },
  {
   "cell_type": "code",
   "execution_count": 13,
   "metadata": {},
   "outputs": [
    {
     "name": "stdout",
     "output_type": "stream",
     "text": [
      "Enter your age16\n",
      "Please Pay $15 and Cash Counter\n"
     ]
    }
   ],
   "source": [
    "# A movie theater charges different ticket prices depending on a person’s age. If a person is under the age of 3, the ticket is\n",
    "# free; if they are between 3 and 12, the ticket is $10; and if they are over age 12, the ticket is $15. Write a loop in which \n",
    "# you ask users their age, and then tell them the cost of their movie ticket.\n",
    "\n",
    "user = int(input(\"Enter your age\"))\n",
    "\n",
    "# while (user<3):\n",
    "#     print(\"Free Ticket!,Enjoy Movie\")\n",
    "#     break\n",
    "\n",
    "while user < 3:\n",
    "    print(\"Free Ticket! Enjoy Movie\")\n",
    "    break\n",
    "if user >= 3 and user<=12 :\n",
    "    print(\"Please Pay $10 and Cash Counter\")\n",
    "elif user >12:\n",
    "    print(\"Please Pay $15 and Cash Counter\")"
   ]
  },
  {
   "cell_type": "code",
   "execution_count": 16,
   "metadata": {},
   "outputs": [
    {
     "name": "stdout",
     "output_type": "stream",
     "text": [
      "Enter Title:\"Alice in Wonderland\"\n",
      "My Favourite book is: \"Alice in Wonderland\"\n"
     ]
    }
   ],
   "source": [
    "# Write a function called favorite_book() that accepts one parameter, title. The function should print a message, such as One of\n",
    "# my favorite books is Alice in Wonderland. Call the function, making sure to include a book title as an argument in the function \n",
    "# call.\n",
    "\n",
    "def favorite_book(title):\n",
    "    return print(\"My Favourite book is:\",title)\n",
    "\n",
    "title=input(\"Enter Title:\")\n",
    "favorite_book(title)"
   ]
  },
  {
   "cell_type": "code",
   "execution_count": 12,
   "metadata": {},
   "outputs": [
    {
     "name": "stdout",
     "output_type": "stream",
     "text": [
      "Guess the Number:9\n",
      "Incorrect! Choose Again,Remaining Chances = 2\n",
      "Guess the Number:7\n",
      "Incorrect! Choose Again,Remaining Chances = 1\n",
      "Guess the Number:5\n",
      "Incorrect! Choose Again,Remaining Chances = 0\n",
      "Game Over...!\n"
     ]
    }
   ],
   "source": [
    "# Guess the number game\n",
    "# Write a program which randomly generate a number between 1 to 30 and ask the user in input field to guess the correct number.\n",
    "#Give three chances to user guess the number and also give hint to user if hidden number is greater or smaller than the number \n",
    "#he given to input field.\n",
    "\n",
    "import random\n",
    "a = (random.randrange(1,3))\n",
    "for x in range(-2,1):\n",
    "    b = int(input(\"Guess the Number:\"))\n",
    "    if a == b :\n",
    "        print(\"Correct!You Won\")\n",
    "        break\n",
    "    else:\n",
    "        print(\"Incorrect! Choose Again,Remaining Chances =\",-x)\n",
    "        win = 0\n",
    "        \n",
    "if win == 0:\n",
    "    print('Game Over...!')\n",
    "    "
   ]
  }
 ],
 "metadata": {
  "kernelspec": {
   "display_name": "Python 3",
   "language": "python",
   "name": "python3"
  },
  "language_info": {
   "codemirror_mode": {
    "name": "ipython",
    "version": 3
   },
   "file_extension": ".py",
   "mimetype": "text/x-python",
   "name": "python",
   "nbconvert_exporter": "python",
   "pygments_lexer": "ipython3",
   "version": "3.7.3"
  }
 },
 "nbformat": 4,
 "nbformat_minor": 2
}
