{
 "cells": [
  {
   "cell_type": "code",
   "execution_count": 3,
   "metadata": {},
   "outputs": [
    {
     "name": "stdout",
     "output_type": "stream",
     "text": [
      "Select operation \n",
      " 1.Add \t 2.Subtract \t 3.Multiply \t 4.Divide \t 5.Power\n",
      "\n",
      "Enter choice(1/2/3/4/5): 4\n",
      "Enter first number: 2\n",
      "Enter second number:4\n",
      "2.0 / 4.0 = 0.5\n"
     ]
    }
   ],
   "source": [
    "def add(x, y):\n",
    "   return x + y\n",
    "\n",
    "def subtract(x, y):\n",
    "   return x - y\n",
    "\n",
    "def multiply(x, y):\n",
    "   return x * y\n",
    "\n",
    "def divide(x, y):\n",
    "   return x / y\n",
    "\n",
    "print(\"Select operation \\n 1.Add \\t 2.Subtract \\t 3.Multiply \\t 4.Divide \\t 5.Power\")\n",
    "\n",
    "\n",
    "choice = int(input(\"\\nEnter choice(1/2/3/4/5): \"))\n",
    "num1 = float(input(\"Enter first number: \"))\n",
    "num2 = float(input(\"Enter second number:\"))\n",
    "\n",
    "if choice == 1:\n",
    "   print(num1,\"+\",num2,\"=\", add(num1,num2))\n",
    "elif choice == 2:\n",
    "   print(num1,\"-\",num2,\"=\", subtract(num1,num2))\n",
    "elif choice == 3:\n",
    "   print(num1,\"*\",num2,\"=\", multiply(num1,num2))\n",
    "elif choice == 4:\n",
    "   print(num1,\"/\",num2,\"=\", divide(num1,num2))\n",
    "elif choice == 5:\n",
    "   print(num1,\"^\",num2,\"=\", pow(num1,num2))\n",
    "else:\n",
    "   print(\"Invalid input\")"
   ]
  },
  {
   "cell_type": "code",
   "execution_count": 6,
   "metadata": {},
   "outputs": [
    {
     "name": "stdout",
     "output_type": "stream",
     "text": [
      "Enter a string:Usama 123 Usman\n",
      "3\n",
      "Usama  Usman\n"
     ]
    }
   ],
   "source": [
    "string = input(\"Enter a string:\")\n",
    "count = 0\n",
    "  \n",
    "newstring =\"\" \n",
    "for a in string: \n",
    "    if (a.isnumeric()) == True: \n",
    "        count+= 1\n",
    "    else: \n",
    "        newstring+= a \n",
    "print(count) \n",
    "print(newstring) "
   ]
  },
  {
   "cell_type": "code",
   "execution_count": 7,
   "metadata": {},
   "outputs": [
    {
     "name": "stdout",
     "output_type": "stream",
     "text": [
      "Current Dict is:  {'key1': 'Sindh', 'key2': 'Madressah'}\n",
      "Enter key value to add:Tul Islam\n",
      "Updated Dict is:  {'key1': 'Sindh', 'key2': 'Madressah', 'key3': 'Tul Islam'}\n"
     ]
    }
   ],
   "source": [
    "dict = {'key1':'Sindh', 'key2':'Madressah'} \n",
    "print(\"Current Dict is: \", dict) \n",
    "  \n",
    "dict['key3'] = input(\"Enter key value to add:\")\n",
    "print(\"Updated Dict is: \", dict) "
   ]
  },
  {
   "cell_type": "code",
   "execution_count": 9,
   "metadata": {},
   "outputs": [
    {
     "name": "stdout",
     "output_type": "stream",
     "text": [
      "Total sum of values in the dictionary: 600\n"
     ]
    }
   ],
   "source": [
    "numbers={'A':100,'B':200,'C':300}\n",
    "print(\"Total sum of values in the dictionary:\",sum(numbers.values()))"
   ]
  },
  {
   "cell_type": "code",
   "execution_count": 11,
   "metadata": {},
   "outputs": [
    {
     "name": "stdout",
     "output_type": "stream",
     "text": [
      "[20, 30]\n"
     ]
    }
   ],
   "source": [
    "def Repeat(x): \n",
    "    repeated = [] \n",
    "    for i in range(len(x)): \n",
    "        k = i + 1\n",
    "        for j in range(k,len(x)): \n",
    "            if x[i] == x[j] and x[i] not in repeated: \n",
    "                repeated.append(x[i]) \n",
    "    return repeated \n",
    "\n",
    "list1 = [10, 20, 30, 20, 20, 30, 40 ] \n",
    "print (Repeat(list1)) "
   ]
  },
  {
   "cell_type": "code",
   "execution_count": 5,
   "metadata": {},
   "outputs": [
    {
     "name": "stdout",
     "output_type": "stream",
     "text": [
      "Enter a key:b\n",
      "Present,  value = 200\n"
     ]
    }
   ],
   "source": [
    "dict = {'a': 100, 'b':200, 'c':300} \n",
    "key = input(\"Enter a key:\")\n",
    "if key in dict.keys(): \n",
    "    print(\"Present, \", end =\" \") \n",
    "    print(\"value =\", dict[key]) \n",
    "else: \n",
    "    print(\"Not present\") "
   ]
  }
 ],
 "metadata": {
  "kernelspec": {
   "display_name": "Python 3",
   "language": "python",
   "name": "python3"
  },
  "language_info": {
   "codemirror_mode": {
    "name": "ipython",
    "version": 3
   },
   "file_extension": ".py",
   "mimetype": "text/x-python",
   "name": "python",
   "nbconvert_exporter": "python",
   "pygments_lexer": "ipython3",
   "version": "3.7.3"
  }
 },
 "nbformat": 4,
 "nbformat_minor": 2
}
