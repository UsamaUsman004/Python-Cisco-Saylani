{
 "cells": [
  {
   "cell_type": "markdown",
   "metadata": {},
   "source": [
    "# Python Programming Language Assignment # 1"
   ]
  },
  {
   "cell_type": "code",
   "execution_count": 2,
   "metadata": {},
   "outputs": [
    {
     "name": "stdout",
     "output_type": "stream",
     "text": [
      " Twinkle, twinkle, little star,\n",
      "\t How I wonder what you are!\n",
      "\t \t Up above the world so high,\n",
      "\t \t Like a diamond in the sky.\n",
      "Twinkle, twinkle, little star,\n",
      "\t How I wonder what you are\n"
     ]
    }
   ],
   "source": [
    "# Write a Python program to print the following string in a specific format\n",
    "# (see the output).\n",
    "# Twinkle, twinkle, little star,\n",
    "#     How I wonder what you are!\n",
    "#     Up above the world so high,\n",
    "#     Like a diamond in the sky.\n",
    "# Twinkle, twinkle, little star,\n",
    "#     How I wonder what you are\n",
    "\n",
    "\n",
    "\n",
    "print(\"\"\" Twinkle, twinkle, little star,\n",
    "\\t How I wonder what you are!\n",
    "\\t \\t Up above the world so high,\n",
    "\\t \\t Like a diamond in the sky.\n",
    "Twinkle, twinkle, little star,\n",
    "\\t How I wonder what you are\"\"\")"
   ]
  },
  {
   "cell_type": "code",
   "execution_count": 6,
   "metadata": {},
   "outputs": [
    {
     "name": "stdout",
     "output_type": "stream",
     "text": [
      "3.7.3 (default, Apr 24 2019, 15:29:51) [MSC v.1915 64 bit (AMD64)]\n"
     ]
    }
   ],
   "source": [
    "# Write a Python program to get the Python version you are using\n",
    "import sys\n",
    "print(sys.version)"
   ]
  },
  {
   "cell_type": "code",
   "execution_count": 18,
   "metadata": {},
   "outputs": [
    {
     "name": "stdout",
     "output_type": "stream",
     "text": [
      "2019-11-03 09:26:44.044545\n"
     ]
    }
   ],
   "source": [
    "# Write a Python program to display the current date and time\n",
    "import datetime as dt\n",
    "print(dt.datetime.now())"
   ]
  },
  {
   "cell_type": "code",
   "execution_count": 25,
   "metadata": {},
   "outputs": [
    {
     "name": "stdout",
     "output_type": "stream",
     "text": [
      "Enter the Radius:1\n",
      "3.141592653589793\n"
     ]
    }
   ],
   "source": [
    "# Write a Python program which accepts the radius of a circle from the user and compute the area.\n",
    "import math\n",
    "a = float(input(\"Enter the Radius:\"))\n",
    "print((a*a)*(math.pi))"
   ]
  },
  {
   "cell_type": "code",
   "execution_count": 26,
   "metadata": {},
   "outputs": [
    {
     "name": "stdout",
     "output_type": "stream",
     "text": [
      "Enter your First Name:Muhammad\n",
      "Enter your Last Name:Osama\n",
      "Osama Muhammad\n"
     ]
    }
   ],
   "source": [
    "# Write a Python program which accepts the user's first and last name and print them in reverse order with a space between them.\n",
    "fname= input(\"Enter your First Name:\")\n",
    "lname= input(\"Enter your Last Name:\")\n",
    "\n",
    "print(lname,fname)"
   ]
  },
  {
   "cell_type": "code",
   "execution_count": 1,
   "metadata": {},
   "outputs": [
    {
     "name": "stdout",
     "output_type": "stream",
     "text": [
      "Enter First Input:1\n",
      "Enter Second Input:2\n",
      "3\n"
     ]
    }
   ],
   "source": [
    "# Write a python program which takes two inputs from user and print them addition\n",
    "First = int(input(\"Enter First Input:\"))\n",
    "Second = int(input(\"Enter Second Input:\"))\n",
    "addition = First + Second\n",
    "print(addition)"
   ]
  }
 ],
 "metadata": {
  "kernelspec": {
   "display_name": "Python 3",
   "language": "python",
   "name": "python3"
  },
  "language_info": {
   "codemirror_mode": {
    "name": "ipython",
    "version": 3
   },
   "file_extension": ".py",
   "mimetype": "text/x-python",
   "name": "python",
   "nbconvert_exporter": "python",
   "pygments_lexer": "ipython3",
   "version": "3.7.3"
  }
 },
 "nbformat": 4,
 "nbformat_minor": 2
}
