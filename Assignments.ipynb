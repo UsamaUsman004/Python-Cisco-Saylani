{
 "cells": [
  {
   "cell_type": "markdown",
   "metadata": {},
   "source": [
    "# ASSIGNMENT # 1"
   ]
  },
  {
   "cell_type": "code",
   "execution_count": 8,
   "metadata": {},
   "outputs": [
    {
     "name": "stdout",
     "output_type": "stream",
     "text": [
      "Twinkle, twinkle, little star,\n",
      " \tHow I wonder what you are!\n",
      "\tUp above the world so high,\n",
      "\tLike a diamond in the sky.\n",
      "Twinkle, twinkle, little star,\n",
      "\tHow I wonder what you are\n"
     ]
    }
   ],
   "source": [
    "# Write a Python program to print the following string in a specific format\n",
    "# (see the output).\n",
    "# Twinkle, twinkle, little star,\n",
    "#     How I wonder what you are!\n",
    "#     Up above the world so high,\n",
    "#     Like a diamond in the sky.\n",
    "# Twinkle, twinkle, little star,\n",
    "#     How I wonder what you are\n",
    "\n",
    "\n",
    "\n",
    "print(\"Twinkle, twinkle, little star,\\n \\tHow I wonder what you are!\\n\\tUp above the world so high,\\n\\tLike a diamond in the sky.\\nTwinkle, twinkle, little star,\\n\\tHow I wonder what you are\")"
   ]
  },
  {
   "cell_type": "code",
   "execution_count": 10,
   "metadata": {},
   "outputs": [
    {
     "name": "stdout",
     "output_type": "stream",
     "text": [
      "Python 3.7.3\n",
      "3.7.3 (default, Apr 24 2019, 15:29:51) [MSC v.1915 64 bit (AMD64)]\n"
     ]
    }
   ],
   "source": [
    "# Write a Python program to get the Python version you are using\n",
    "version = \"Python 3.7.3\"\n",
    "print(version)\n",
    "\n",
    "#By using system library we can get it like this:\n",
    "import sys\n",
    "print(sys.version)"
   ]
  },
  {
   "cell_type": "code",
   "execution_count": 11,
   "metadata": {},
   "outputs": [
    {
     "name": "stdout",
     "output_type": "stream",
     "text": [
      "2019-11-28 15:19:50.404458\n"
     ]
    }
   ],
   "source": [
    "# Write a Python program to display the current date and time\n",
    "import datetime as dt\n",
    "print(dt.datetime.now())"
   ]
  },
  {
   "cell_type": "code",
   "execution_count": 15,
   "metadata": {},
   "outputs": [
    {
     "name": "stdout",
     "output_type": "stream",
     "text": [
      "Enter the Radius:4\n",
      "50.272\n"
     ]
    }
   ],
   "source": [
    "# Write a Python program which accepts the radius of a circle from the user and compute the area.\n",
    "import math\n",
    "pi=3.142\n",
    "a = float(input(\"Enter the Radius:\"))\n",
    "print((a*a)*(pi))"
   ]
  },
  {
   "cell_type": "code",
   "execution_count": 17,
   "metadata": {},
   "outputs": [
    {
     "name": "stdout",
     "output_type": "stream",
     "text": [
      "Enter your First Name:Usama\n",
      "Enter your Last Name:Usman\n",
      "Usman   Usama\n"
     ]
    }
   ],
   "source": [
    "# Write a Python program which accepts the user's first and last name and print them in reverse order with a space between them.\n",
    "fname= input(\"Enter your First Name:\")\n",
    "lname= input(\"Enter your Last Name:\")\n",
    "\n",
    "print(lname,\" \",fname)"
   ]
  },
  {
   "cell_type": "markdown",
   "metadata": {},
   "source": [
    "# ASSIGNMENT# 2"
   ]
  },
  {
   "cell_type": "code",
   "execution_count": 1,
   "metadata": {},
   "outputs": [
    {
     "name": "stdout",
     "output_type": "stream",
     "text": [
      "Enter marks of the Eng subject: 89\n",
      "Enter marks of the Urdu subject: 86\n",
      "Enter marks of the Isl subject: 92\n",
      "Enter marks of the Maths subject: 99\n",
      "Enter marks of the Gk subject: 89\n",
      "Grade: A\n",
      "Total Marks: 455\n"
     ]
    }
   ],
   "source": [
    "# Write a program which takes 5 inputs from user for different subject’s marks, total it and generate mark sheet using grades?\n",
    "Eng=int(input(\"Enter marks of the Eng subject: \"))\n",
    "Urdu=int(input(\"Enter marks of the Urdu subject: \"))\n",
    "Isl=int(input(\"Enter marks of the Isl subject: \"))\n",
    "Maths=int(input(\"Enter marks of the Maths subject: \"))\n",
    "Gk=int(input(\"Enter marks of the Gk subject: \"))\n",
    "total = Eng + Urdu + Isl + Maths + Gk\n",
    "avg=int((total)/5)\n",
    "if(avg>=90):\n",
    "    print(\"Grade: A\")\n",
    "elif(avg>=80&avg<90):\n",
    "    print(\"Grade: B\")\n",
    "elif(avg>=70&avg<80):\n",
    "    print(\"Grade: C\")\n",
    "elif(avg>=60&avg<70):\n",
    "    print(\"Grade: D\")\n",
    "else:\n",
    "    print(\"Grade: F\")\n",
    "    \n",
    "print(\"Total Marks:\",total)"
   ]
  },
  {
   "cell_type": "code",
   "execution_count": 2,
   "metadata": {},
   "outputs": [
    {
     "name": "stdout",
     "output_type": "stream",
     "text": [
      "Enter a number: 3\n",
      "Odd\n"
     ]
    }
   ],
   "source": [
    "# Write a program which take input from user and identify that the given number is even or odd?\n",
    "num = int(input(\"Enter a number: \"))\n",
    "if (num % 2) == 0:\n",
    "   print(\"Even\")\n",
    "else:\n",
    "   print(\"Odd\")"
   ]
  },
  {
   "cell_type": "code",
   "execution_count": 3,
   "metadata": {},
   "outputs": [
    {
     "name": "stdout",
     "output_type": "stream",
     "text": [
      "list length :  3\n"
     ]
    }
   ],
   "source": [
    "# Write a program which print the length of the list?\n",
    "list1= [123, 'xyz', 'osama']\n",
    "print(\"list length : \", len(list1))"
   ]
  },
  {
   "cell_type": "code",
   "execution_count": 9,
   "metadata": {},
   "outputs": [
    {
     "name": "stdout",
     "output_type": "stream",
     "text": [
      "Sum of elements in given list is : 320\n"
     ]
    }
   ],
   "source": [
    "# Write a Python program to sum all the numeric items in a list?\n",
    "lst = [123,132,65]\n",
    "numbers=0\n",
    "lst.append(numbers)\n",
    "print(\"Sum of elements in given list is :\", sum(lst))"
   ]
  },
  {
   "cell_type": "code",
   "execution_count": 10,
   "metadata": {},
   "outputs": [
    {
     "name": "stdout",
     "output_type": "stream",
     "text": [
      "Max value = 32\n"
     ]
    }
   ],
   "source": [
    "# Write a Python program to get the largest number from a numeric list.\n",
    "lst1= [12,13,32,21]\n",
    "print(\"Max value =\",max(lst1))"
   ]
  },
  {
   "cell_type": "code",
   "execution_count": 12,
   "metadata": {},
   "outputs": [
    {
     "name": "stdout",
     "output_type": "stream",
     "text": [
      "[1, 1, 2, 3]\n"
     ]
    }
   ],
   "source": [
    "# Take a list, say for example this one:\n",
    "# a = [1, 1, 2, 3, 5, 8, 13, 21, 34, 55, 89]\n",
    "# and write a program that prints out all the elements of the list that are less than 5.\n",
    "\n",
    "a = [1, 1, 2, 3, 5, 8, 13, 21, 34, 55, 89]\n",
    "b = []\n",
    "\n",
    "for num in a:\n",
    "    if num <5:\n",
    "        b.append(num)\n",
    "        \n",
    "print(b)"
   ]
  },
  {
   "cell_type": "markdown",
   "metadata": {},
   "source": [
    "# Assignment # 3"
   ]
  },
  {
   "cell_type": "code",
   "execution_count": 14,
   "metadata": {},
   "outputs": [
    {
     "name": "stdout",
     "output_type": "stream",
     "text": [
      "Select operation \n",
      " 1.Add \t 2.Subtract \t 3.Multiply \t 4.Divide \t 5.Power\n",
      "\n",
      "Enter choice(1/2/3/4/5): 5\n",
      "Enter first number: 2\n",
      "Enter second number:3\n",
      "2.0 ^ 3.0 = 8.0\n"
     ]
    }
   ],
   "source": [
    "# Make a calculator using Python with addition , subtraction , multiplication ,division and power.\n",
    "\n",
    "print(\"Select operation \\n 1.Add \\t 2.Subtract \\t 3.Multiply \\t 4.Divide \\t 5.Power\")\n",
    "\n",
    "\n",
    "choice = int(input(\"\\nEnter choice(1/2/3/4/5): \"))\n",
    "num1 = float(input(\"Enter first number: \"))\n",
    "num2 = float(input(\"Enter second number:\"))\n",
    "\n",
    "if choice == 1:\n",
    "   print(num1,\"+\",num2,\"=\", (num1+num2))\n",
    "elif choice == 2:\n",
    "   print(num1,\"-\",num2,\"=\", (num1-num2))\n",
    "elif choice == 3:\n",
    "   print(num1,\"*\",num2,\"=\", (num1*num2))\n",
    "elif choice == 4:\n",
    "   print(num1,\"/\",num2,\"=\", (num1/num2))\n",
    "elif choice == 5:\n",
    "   print(num1,\"^\",num2,\"=\", (num1**num2))\n",
    "else:\n",
    "   print(\"Invalid input\")\n"
   ]
  },
  {
   "cell_type": "code",
   "execution_count": 77,
   "metadata": {},
   "outputs": [
    {
     "name": "stdout",
     "output_type": "stream",
     "text": [
      "['1', '2', '3', '4']\n"
     ]
    }
   ],
   "source": [
    "# Write a program to check if there is any numeric value in list using for loop\n",
    "mylist=['1','orange','2','3','4','apple']\n",
    "for s in mylist:\n",
    "    if s.isdigit()== True:\n",
    "        pass \n",
    "\n",
    "print(mynewlist)"
   ]
  },
  {
   "cell_type": "code",
   "execution_count": 33,
   "metadata": {},
   "outputs": [
    {
     "name": "stdout",
     "output_type": "stream",
     "text": [
      "Current Dict is:  {'key1': 'Sindh', 'key2': 'Madressah'}\n",
      "Enter key value to add:tul islam\n",
      "Updated Dict is:  {'key1': 'Sindh', 'key2': 'Madressah', 'key3': 'tul islam'}\n"
     ]
    }
   ],
   "source": [
    "# Write a Python script to add a key to a dictionary\n",
    "dict = {'key1':'Sindh', 'key2':'Madressah'} \n",
    "print(\"Current Dict is: \", dict) \n",
    "  \n",
    "dict['key3'] = input(\"Enter key value to add:\")\n",
    "print(\"Updated Dict is: \", dict) "
   ]
  },
  {
   "cell_type": "code",
   "execution_count": 35,
   "metadata": {},
   "outputs": [
    {
     "name": "stdout",
     "output_type": "stream",
     "text": [
      "Total sum of values in the dictionary: 600\n"
     ]
    }
   ],
   "source": [
    "# Write a Python program to sum all the numeric items in a dictionary\n",
    "numbers={'A':100,'B':200,'C':300}\n",
    "print(\"Total sum of values in the dictionary:\",sum(numbers.values()))"
   ]
  },
  {
   "cell_type": "code",
   "execution_count": 38,
   "metadata": {},
   "outputs": [
    {
     "name": "stdout",
     "output_type": "stream",
     "text": [
      "[20, 30]\n"
     ]
    }
   ],
   "source": [
    "# Write a program to identify duplicate values from list\n",
    "repeated = []  \n",
    "list1 = [10, 20, 30, 20, 20, 30, 40 ]\n",
    "for i in range(len(list1)): \n",
    "        k = i + 1\n",
    "        for j in range(k,len(list1)): \n",
    "            if list1[i] == list1[j] and list1[i] not in repeated: \n",
    "                repeated.append(list1[i])\n",
    "print (repeated)"
   ]
  },
  {
   "cell_type": "code",
   "execution_count": 39,
   "metadata": {},
   "outputs": [
    {
     "name": "stdout",
     "output_type": "stream",
     "text": [
      "Enter a key:b\n",
      "Present,  value = 200\n"
     ]
    }
   ],
   "source": [
    "# Write a Python script to check if a given key already exists in a dictionary\n",
    "dict = {'a': 100, 'b':200, 'c':300} \n",
    "key = input(\"Enter a key:\")\n",
    "if key in dict.keys(): \n",
    "    print(\"Present, \", end =\" \") \n",
    "    print(\"value =\", dict[key]) \n",
    "else: \n",
    "    print(\"Not present\") "
   ]
  }
 ],
 "metadata": {
  "kernelspec": {
   "display_name": "Python 3",
   "language": "python",
   "name": "python3"
  },
  "language_info": {
   "codemirror_mode": {
    "name": "ipython",
    "version": 3
   },
   "file_extension": ".py",
   "mimetype": "text/x-python",
   "name": "python",
   "nbconvert_exporter": "python",
   "pygments_lexer": "ipython3",
   "version": "3.7.3"
  }
 },
 "nbformat": 4,
 "nbformat_minor": 2
}
