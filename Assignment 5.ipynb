{
 "cells": [
  {
   "cell_type": "code",
   "execution_count": 21,
   "metadata": {},
   "outputs": [
    {
     "name": "stdout",
     "output_type": "stream",
     "text": [
      "Given a Number to get factorial: 4\n",
      "The factorial of given number is :  24\n",
      "Given a Number to get factorial: 5\n",
      "The factorial of given number is :  120\n"
     ]
    }
   ],
   "source": [
    "# Question:1\n",
    "# Write a Python function to calculate the factorial of a number (a non-negativeinteger). The function accepts the number as \n",
    "# an argument.\n",
    "\n",
    "#BY USING MATH LIBRARY FUNCTION\n",
    "import math \n",
    "x = int(input(\"Given a Number to get factorial: \"))\n",
    "print (\"The factorial of given number is : \",math.factorial(x)) \n",
    "\n",
    "# BY MAKING FUNCTION:\n",
    "def factorial(num):\n",
    "    factorial = 1\n",
    "    if num < 0:\n",
    "        print(\"Sorry, factorial does not exist for negative numbers\")\n",
    "    elif num == 0:\n",
    "        print(\"The factorial of 0 is 1\")\n",
    "    else:\n",
    "        for i in range(1,num + 1):\n",
    "            factorial = factorial*i\n",
    "            \n",
    "        return factorial\n",
    "        \n",
    "x = int(input(\"Given a Number to get factorial: \"))\n",
    "print (\"The factorial of given number is : \",factorial(x))  "
   ]
  },
  {
   "cell_type": "code",
   "execution_count": 24,
   "metadata": {},
   "outputs": [
    {
     "name": "stdout",
     "output_type": "stream",
     "text": [
      "Enter String: Muhammad Osama\n",
      "UpperCase: 2\n",
      "LowerCase 11\n"
     ]
    }
   ],
   "source": [
    "# Question:2\n",
    "# Write a Python function that accepts a string and calculate the number of uppercase letters and lower case letters.\n",
    "\n",
    "def myfunc(x):\n",
    "    lower=0\n",
    "    capital=0\n",
    "    for i in x:\n",
    "        if(i.islower()):\n",
    "            lower=lower+1\n",
    "        elif(i.isupper()):\n",
    "            capital=capital+1\n",
    "\n",
    "    print(\"UpperCase:\",capital)\n",
    "    print(\"LowerCase\",lower)\n",
    "            \n",
    "mystr = input(\"Enter String: \")\n",
    "myfunc(mystr)\n"
   ]
  },
  {
   "cell_type": "code",
   "execution_count": 32,
   "metadata": {},
   "outputs": [
    {
     "name": "stdout",
     "output_type": "stream",
     "text": [
      "[2, 4, 6, 8]\n"
     ]
    }
   ],
   "source": [
    "# Question:3\n",
    "# Write a Python function to print the even numbers from a given list.\n",
    "def evennum(x):\n",
    "    mylist = []\n",
    "    for n in x:\n",
    "        if n % 2 == 0:\n",
    "            mylist.append(n)\n",
    "    return mylist\n",
    "\n",
    "a=[1, 2, 3, 4, 5, 6, 7, 8, 9]\n",
    "print(evennum(a))"
   ]
  },
  {
   "cell_type": "code",
   "execution_count": 38,
   "metadata": {},
   "outputs": [
    {
     "name": "stdout",
     "output_type": "stream",
     "text": [
      "Enter a string: mom\n",
      "Yes\n"
     ]
    }
   ],
   "source": [
    "# Question:4\n",
    "# Write a Python function that checks whether a passed string is palindrome or not.\n",
    "# Note: A palindrome is a word, phrase, or sequence that reads the same\n",
    "# backward as forward, e.g., madam\n",
    "\n",
    "def Palindrome(s):  \n",
    "    rev = s[::-1] \n",
    "    \n",
    "    if (s == rev): \n",
    "        return True\n",
    "    else:\n",
    "        return False\n",
    "    \n",
    "\n",
    "x = input(\"Enter a string: \")\n",
    "y = Palindrome(s) \n",
    "  \n",
    "if y == 1: \n",
    "    print(\"Yes\") \n",
    "else: \n",
    "    print(\"No\")"
   ]
  },
  {
   "cell_type": "code",
   "execution_count": 42,
   "metadata": {},
   "outputs": [
    {
     "name": "stdout",
     "output_type": "stream",
     "text": [
      "Enter a integer: 5\n",
      "5 is a prime number\n"
     ]
    }
   ],
   "source": [
    "# Question:5\n",
    "# Write a Python function that takes a number as a parameter and check the number is prime or not.\n",
    "\n",
    "def prime(x):\n",
    "    num = x\n",
    "    if num > 1:\n",
    "        for i in range(2,num):\n",
    "            if (num % i) == 0:\n",
    "                print(num,\"is not a prime number\")\n",
    "                break\n",
    "        else:\n",
    "            print(num,\"is a prime number\")\n",
    "            \n",
    "a = int(input(\"Enter a integer: \"))\n",
    "prime(a)"
   ]
  },
  {
   "cell_type": "code",
   "execution_count": 44,
   "metadata": {},
   "outputs": [
    {
     "name": "stdout",
     "output_type": "stream",
     "text": [
      "Customer Items:\n",
      "soap\n",
      "flour\n",
      "rice\n"
     ]
    }
   ],
   "source": [
    "# Question: 6\n",
    "# Suppose a customer is shopping in a market and you need to print all the items which user bought from market.Write a \n",
    "# function which accepts the multiple arguments of user shopping list and print all the items which user bought from market.\n",
    "\n",
    "def shopping(*items):\n",
    "    for item in items:\n",
    "        print(item)\n",
    "\n",
    "print(\"Customer Items:\")\n",
    "shopping(\"soap\",\"flour\",\"rice\")"
   ]
  }
 ],
 "metadata": {
  "kernelspec": {
   "display_name": "Python 3",
   "language": "python",
   "name": "python3"
  },
  "language_info": {
   "codemirror_mode": {
    "name": "ipython",
    "version": 3
   },
   "file_extension": ".py",
   "mimetype": "text/x-python",
   "name": "python",
   "nbconvert_exporter": "python",
   "pygments_lexer": "ipython3",
   "version": "3.7.3"
  }
 },
 "nbformat": 4,
 "nbformat_minor": 2
}
